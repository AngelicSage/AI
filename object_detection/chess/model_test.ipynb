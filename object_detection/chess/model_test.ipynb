{
  "nbformat": 4,
  "nbformat_minor": 0,
  "metadata": {
    "colab": {
      "provenance": []
    },
    "kernelspec": {
      "name": "python3",
      "display_name": "Python 3"
    },
    "language_info": {
      "name": "python"
    }
  },
  "cells": [
    {
      "cell_type": "code",
      "source": [
        "!pip install roboflow"
      ],
      "metadata": {
        "id": "229T0StV3gbq"
      },
      "execution_count": null,
      "outputs": []
    },
    {
      "cell_type": "code",
      "source": [
        "from roboflow import Roboflow\n",
        "rf = Roboflow(api_key=\"moK39t1xU0mQDNQGKPFN\")\n",
        "project = rf.workspace(\"ai-wcnwi\").project(\"chess-7w7i4\")\n",
        "version = project.version(1)\n",
        "dataset = version.download(\"yolov8\")\n",
        "model = project.version(1).model\n"
      ],
      "metadata": {
        "id": "wJDC-5S8epV7",
        "colab": {
          "base_uri": "https://localhost:8080/"
        },
        "outputId": "d8cdd5d3-4f61-4f2b-8f06-24d19f21b82a"
      },
      "execution_count": null,
      "outputs": [
        {
          "output_type": "stream",
          "name": "stdout",
          "text": [
            "loading Roboflow workspace...\n",
            "loading Roboflow project...\n",
            "[WARNING] we noticed you are downloading a `yolov8` datasets but you don't have `ultralytics` installed. Roboflow `.deploy` supports only models trained with `ultralytics==8.0.196`, to intall it `pip install ultralytics==8.0.196`.\n"
          ]
        }
      ]
    },
    {
      "cell_type": "code",
      "source": [
        "#Testing from video\n",
        "from roboflow import Roboflow\n",
        "\n",
        "rf = Roboflow(api_key=\"moK39t1xU0mQDNQGKPFN\")\n",
        "project = rf.workspace().project(\"chess-7w7i4\")\n",
        "model = project.version(\"1\").model\n",
        "\n",
        "job_id, signed_url, expire_time = model.predict_video(\n",
        "    \"https://www.youtube.com/watch?v=wpfSxSb6ZtM\",\n",
        "    fps=5,\n",
        "    prediction_type=\"batch-video\",\n",
        ")\n",
        "\n",
        "results = model.poll_until_video_results(job_id)\n",
        "\n",
        "print(results)"
      ],
      "metadata": {
        "colab": {
          "base_uri": "https://localhost:8080/"
        },
        "id": "gUTr274x-sGf",
        "outputId": "827f6814-3c0d-417c-c261-fef239b18ec3"
      },
      "execution_count": null,
      "outputs": [
        {
          "output_type": "stream",
          "name": "stdout",
          "text": [
            "loading Roboflow workspace...\n",
            "loading Roboflow project...\n",
            "Checking for video inference results for job abfaf61a-82fb-4536-af14-4ed369a3beb4 every 60s\n",
            "(0s): Checking for inference results\n",
            "{'_id': 'abfaf61a-82fb-4536-af14-4ed369a3beb4', 'created_at': 'Fri, 29 Mar 2024 02:19:28 GMT', 'crop_area': 'full', 'infer_fps': 5, 'infer_models': [{'api_key': 'moK39t1xU0mQDNQGKPFN', 'infer_errors': 0, 'infer_success': 0, 'inference_type': 'object-detection', 'model_id': 'chess-7w7i4', 'model_version': 1}], 'memo': 'HuDuDZMvsCZHQJxed5aqxezg31B2', 'metadata': '', 'pubsub_message_id': '10803799533799122', 'retries': 1, 'signed_url': 'https://www.youtube.com/watch?v=wpfSxSb6ZtM', 'status': 2, 'status_info': 'decode error', 'updated_at': 'Fri, 29 Mar 2024 02:19:35 GMT', 'webhook_url': ''}\n"
          ]
        }
      ]
    },
    {
      "cell_type": "code",
      "source": [],
      "metadata": {
        "id": "ave5MWCA_H0J"
      },
      "execution_count": null,
      "outputs": []
    }
  ]
}