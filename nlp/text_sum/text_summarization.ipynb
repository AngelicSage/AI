{
 "cells": [
  {
   "cell_type": "code",
   "execution_count": 8,
   "metadata": {},
   "outputs": [],
   "source": [
    "from sumy.parsers.plaintext import PlaintextParser\n",
    "from sumy.nlp.tokenizers import Tokenizer\n",
    "from sumy.summarizers.lsa import LsaSummarizer\n",
    "\n"
   ]
  },
  {
   "cell_type": "code",
   "execution_count": 6,
   "metadata": {},
   "outputs": [],
   "source": [
    "# Input text to be summarized\n",
    "input_text = \"\"\"\n",
    "Artificial intelligence (AI) is rapidly transforming the landscape of healthcare, offering revolutionary applications that promise to enhance patient care and streamline medical processes. By leveraging complex algorithms and massive datasets, AI is capable of diagnosing diseases with greater accuracy than ever before, often detecting subtle patterns in medical imaging that are invisible to the human eye. Furthermore, AI-powered virtual assistants are increasingly being used in clinical settings, where they provide real-time support to medical professionals by retrieving patient data, suggesting treatment options, and managing administrative tasks. As AI continues to evolve, it not only augments the capabilities of healthcare providers but also improves patient outcomes, making healthcare more efficient and accessible. This integration of AI in healthcare not only exemplifies the potential of technology to transform industries but also highlights the ethical considerations and the need for stringent regulatory frameworks to ensure patient safety and data security.\n",
    "\"\"\""
   ]
  },
  {
   "cell_type": "code",
   "execution_count": 12,
   "metadata": {},
   "outputs": [
    {
     "name": "stdout",
     "output_type": "stream",
     "text": [
      "Original Text:\n",
      "\n",
      "Artificial intelligence (AI) is rapidly transforming the landscape of healthcare, offering revolutionary applications that promise to enhance patient care and streamline medical processes. By leveraging complex algorithms and massive datasets, AI is capable of diagnosing diseases with greater accuracy than ever before, often detecting subtle patterns in medical imaging that are invisible to the human eye. Furthermore, AI-powered virtual assistants are increasingly being used in clinical settings, where they provide real-time support to medical professionals by retrieving patient data, suggesting treatment options, and managing administrative tasks. As AI continues to evolve, it not only augments the capabilities of healthcare providers but also improves patient outcomes, making healthcare more efficient and accessible. This integration of AI in healthcare not only exemplifies the potential of technology to transform industries but also highlights the ethical considerations and the need for stringent regulatory frameworks to ensure patient safety and data security.\n",
      "\n",
      "\n",
      "Summary:\n",
      "Artificial intelligence (AI) is rapidly transforming the landscape of healthcare, offering revolutionary applications that promise to enhance patient care and streamline medical processes.\n",
      "By leveraging complex algorithms and massive datasets, AI is capable of diagnosing diseases with greater accuracy than ever before, often detecting subtle patterns in medical imaging that are invisible to the human eye.\n",
      "Furthermore, AI-powered virtual assistants are increasingly being used in clinical settings, where they provide real-time support to medical professionals by retrieving patient data, suggesting treatment options, and managing administrative tasks.\n"
     ]
    }
   ],
   "source": [
    "# Parse the input text\n",
    "parser = PlaintextParser.from_string(input_text, Tokenizer(\"english\"))\n",
    "\n",
    "# Create an LSA summarizer\n",
    "summarizer = LsaSummarizer()\n",
    "\n",
    "# Generate the summary\n",
    "summary = summarizer(parser.document, sentences_count=3)  # You can adjust the number of sentences in the summary\n",
    "\n",
    "# Output the summary\n",
    "print(\"Original Text:\")\n",
    "print(input_text)\n",
    "print(\"\\nSummary:\")\n",
    "for sentence in summary:\n",
    "    print(sentence)"
   ]
  },
  {
   "cell_type": "markdown",
   "metadata": {},
   "source": [
    "original: 147\n",
    "summary: 86"
   ]
  }
 ],
 "metadata": {
  "kernelspec": {
   "display_name": "Python 3",
   "language": "python",
   "name": "python3"
  },
  "language_info": {
   "codemirror_mode": {
    "name": "ipython",
    "version": 3
   },
   "file_extension": ".py",
   "mimetype": "text/x-python",
   "name": "python",
   "nbconvert_exporter": "python",
   "pygments_lexer": "ipython3",
   "version": "3.11.7"
  }
 },
 "nbformat": 4,
 "nbformat_minor": 2
}
